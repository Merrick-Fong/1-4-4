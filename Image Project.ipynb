{
 "cells": [
  {
   "cell_type": "code",
   "execution_count": null,
   "metadata": {
    "collapsed": true
   },
   "outputs": [],
   "source": [
    "\n",
    "%matplotlib inline\n",
    "import matplotlib.pyplot as plt \n",
    "import os.path\n",
    "import numpy as np\n",
    "import random\n",
    "\n",
    "directory = os.getcwd()\n",
    "filename = os.path.join(directory, 'woman.jpg')\n",
    "img = plt.imread(filename)\n",
    "\n",
    "fig, ax = plt.subplots(1, 1)\n",
    "ax.imshow(img, interpolation='none')\n",
    "\n",
    "\n",
    "height = len(img)\n",
    "width = len(img[0])\n",
    "for r in range(height):\n",
    "    for c in range(width):\n",
    "        if sum(img[r][c])>300:\n",
    "            img[r][c]=[random.int(0,255),random.int(0,255),random.int(0,255),\n",
    "            ax.imshow(img)\n"
   ]
  }
 ],
 "metadata": {
  "kernelspec": {
   "display_name": "Python 2",
   "language": "python",
   "name": "python2"
  },
  "language_info": {
   "codemirror_mode": {
    "name": "ipython",
    "version": 2
   },
   "file_extension": ".py",
   "mimetype": "text/x-python",
   "name": "python",
   "nbconvert_exporter": "python",
   "pygments_lexer": "ipython2",
   "version": "2.7.13"
  }
 },
 "nbformat": 4,
 "nbformat_minor": 2
}
